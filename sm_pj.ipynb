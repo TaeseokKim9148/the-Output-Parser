{
 "cells": [
  {
   "cell_type": "code",
   "execution_count": 1,
   "metadata": {},
   "outputs": [],
   "source": [
    "email_conversation = \"\"\"From: John Smith john.smith@example.comTo: Emily Johnson emily.johnson@example.comDate: February 3, 2025\n",
    "\n",
    "Dear Emily,\n",
    "\n",
    "I hope this email finds you well. I am reaching out to explore the possibility of a collaboration between our companies. We have been following your recent projects, and we believe that working together could bring mutual benefits.\n",
    "\n",
    "Would you be available for a quick call next week to discuss this further? Please let me know a time that works for you.\n",
    "\n",
    "Looking forward to your response.\n",
    "\n",
    "Best regards,John SmithXYZ Solutions\"\"\""
   ]
  },
  {
   "cell_type": "code",
   "execution_count": 2,
   "metadata": {},
   "outputs": [],
   "source": [
    "from pydantic import BaseModel, Field\n",
    "\n",
    "\n",
    "# 이메일 본문으로부터 주요 엔티티 추출\n",
    "class EmailSummary(BaseModel):\n",
    "    person: str = Field(description=\"메일을 보낸 사람\")\n",
    "    company: str = Field(description=\"메일을 보낸 사람의 회사 정보\")\n",
    "    email: str = Field(description=\"메일을 보낸 사람의 이메일 주소\")\n",
    "    subject: str = Field(description=\"메일 제목\")\n",
    "    summary: str = Field(description=\"메일 본문을 요약한 텍스트\")\n",
    "    date: str = Field(description=\"메일 본문에 언급된 미팅 날짜와 시간\")"
   ]
  },
  {
   "cell_type": "code",
   "execution_count": 3,
   "metadata": {},
   "outputs": [],
   "source": [
    "## LCEL 구조\n",
    "\n",
    "# chain = prompt | llm | output_parser"
   ]
  },
  {
   "cell_type": "code",
   "execution_count": 4,
   "metadata": {},
   "outputs": [],
   "source": [
    "from langchain_openai import ChatOpenAI\n",
    "\n",
    "llm = ChatOpenAI(temperature=0, model_name=\"gpt-4o\")"
   ]
  },
  {
   "cell_type": "code",
   "execution_count": 5,
   "metadata": {},
   "outputs": [],
   "source": [
    "from langchain_core.output_parsers import PydanticOutputParser\n",
    "\n",
    "# PydanticOutputParser 생성\n",
    "output_parser = PydanticOutputParser(pydantic_object=EmailSummary)"
   ]
  },
  {
   "cell_type": "code",
   "execution_count": 6,
   "metadata": {},
   "outputs": [],
   "source": [
    "from langchain_core.prompts import PromptTemplate\n",
    "\n",
    "prompt = PromptTemplate.from_template(\n",
    "    \"\"\"\n",
    "You are a helpful assistant. Please answer the following questions in KOREAN.\n",
    "\n",
    "#QUESTION:\n",
    "다음의 이메일 내용 중에서 주요 내용을 추출해 주세요.\n",
    "\n",
    "#EMAIL CONVERSATION:\n",
    "{email_conversation}\n",
    "\n",
    "#FORMAT:\n",
    "{format}\n",
    "\"\"\"\n",
    ")\n",
    "\n",
    "# format 에 PydanticOutputParser의 부분 포맷팅(partial) 추가\n",
    "prompt = prompt.partial(format=output_parser.get_format_instructions())"
   ]
  },
  {
   "cell_type": "code",
   "execution_count": 7,
   "metadata": {},
   "outputs": [],
   "source": [
    "# 체인 생성\n",
    "chain = prompt | llm | output_parser"
   ]
  },
  {
   "cell_type": "code",
   "execution_count": 8,
   "metadata": {},
   "outputs": [],
   "source": [
    "# 체인 실행\n",
    "answer = chain.invoke({\"email_conversation\": email_conversation})"
   ]
  },
  {
   "cell_type": "code",
   "execution_count": 9,
   "metadata": {},
   "outputs": [
    {
     "name": "stdout",
     "output_type": "stream",
     "text": [
      "John Smith는 Emily Johnson에게 두 회사 간의 협업 가능성을 논의하기 위해 연락을 취했습니다. 그는 다음 주에 전화 통화를 통해 더 자세히 논의하고 싶다고 제안했습니다.\n"
     ]
    }
   ],
   "source": [
    "print(answer.summary)"
   ]
  },
  {
   "cell_type": "code",
   "execution_count": 10,
   "metadata": {},
   "outputs": [
    {
     "data": {
      "text/plain": [
       "EmailSummary(person='John Smith', company='XYZ Solutions', email='john.smith@example.com', subject='협업 가능성 논의', summary='John Smith는 Emily Johnson에게 두 회사 간의 협업 가능성을 논의하기 위해 연락을 취했습니다. 그는 다음 주에 전화 통화를 통해 더 자세히 논의하고 싶다고 제안했습니다.', date='다음 주')"
      ]
     },
     "execution_count": 10,
     "metadata": {},
     "output_type": "execute_result"
    }
   ],
   "source": [
    "answer"
   ]
  },
  {
   "cell_type": "markdown",
   "metadata": {},
   "source": [
    "## 검색: SERP API"
   ]
  },
  {
   "cell_type": "markdown",
   "metadata": {},
   "source": []
  },
  {
   "cell_type": "markdown",
   "metadata": {},
   "source": [
    "참고: https://serpapi.com/integrations/python"
   ]
  },
  {
   "cell_type": "code",
   "execution_count": 12,
   "metadata": {},
   "outputs": [],
   "source": [
    "import os\n",
    "\n",
    "os.environ[\"SERPAPI_API_KEY\"] = \"user_api_key\""
   ]
  },
  {
   "cell_type": "code",
   "execution_count": 13,
   "metadata": {},
   "outputs": [],
   "source": [
    "from langchain_community.utilities import SerpAPIWrapper\n",
    "\n",
    "params = {\"engine\": \"google\", \"gl\": \"kr\", \"hl\": \"ko\", \"num\": \"3\"}\n",
    "\n",
    "search = SerpAPIWrapper(params=params)"
   ]
  },
  {
   "cell_type": "code",
   "execution_count": 14,
   "metadata": {},
   "outputs": [
    {
     "data": {
      "text/plain": [
       "'john.smith@example.com'"
      ]
     },
     "execution_count": 14,
     "metadata": {},
     "output_type": "execute_result"
    }
   ],
   "source": [
    "answer.email"
   ]
  },
  {
   "cell_type": "code",
   "execution_count": 15,
   "metadata": {},
   "outputs": [
    {
     "data": {
      "text/plain": [
       "'John Smith XYZ Solutions john.smith@example.com'"
      ]
     },
     "execution_count": 15,
     "metadata": {},
     "output_type": "execute_result"
    }
   ],
   "source": [
    "query = f\"{answer.person} {answer.company} {answer.email}\"\n",
    "query"
   ]
  },
  {
   "cell_type": "code",
   "execution_count": 16,
   "metadata": {},
   "outputs": [],
   "source": [
    "search_result = search.run(query)"
   ]
  },
  {
   "cell_type": "code",
   "execution_count": 17,
   "metadata": {},
   "outputs": [],
   "source": [
    "search_result = eval(search_result)"
   ]
  },
  {
   "cell_type": "code",
   "execution_count": 18,
   "metadata": {},
   "outputs": [
    {
     "data": {
      "text/plain": [
       "list"
      ]
     },
     "execution_count": 18,
     "metadata": {},
     "output_type": "execute_result"
    }
   ],
   "source": [
    "type(search_result)"
   ]
  },
  {
   "cell_type": "code",
   "execution_count": 19,
   "metadata": {},
   "outputs": [],
   "source": [
    "# 검색 결과\n",
    "search_result_string = \"\\n\".join(search_result)"
   ]
  },
  {
   "cell_type": "code",
   "execution_count": 20,
   "metadata": {},
   "outputs": [
    {
     "data": {
      "text/plain": [
       "EmailSummary(person='John Smith', company='XYZ Solutions', email='john.smith@example.com', subject='협업 가능성 논의', summary='John Smith는 Emily Johnson에게 두 회사 간의 협업 가능성을 논의하기 위해 연락을 취했습니다. 그는 다음 주에 전화 통화를 통해 더 자세히 논의하고 싶다고 제안했습니다.', date='다음 주')"
      ]
     },
     "execution_count": 20,
     "metadata": {},
     "output_type": "execute_result"
    }
   ],
   "source": [
    "answer"
   ]
  },
  {
   "cell_type": "code",
   "execution_count": 21,
   "metadata": {},
   "outputs": [],
   "source": [
    "from langchain_core.prompts import PromptTemplate\n",
    "\n",
    "report_prompt = PromptTemplate.from_template(\n",
    "    \"\"\"당신은 이메일의 주요 정보를 바탕으로 요약 정리해 주는 전문가 입니다.\n",
    "당신의 임무는 다음의 이메일 정보를 바탕으로 보고서 형식의 요약을 작성하는 것입니다.\n",
    "주어진 정보를 기반으로 양식(format)에 맞추어 요약을 작성해 주세요.\n",
    "\n",
    "#Information:\n",
    "- Sender: {sender}\n",
    "- Additional Information about sender: {additional_information}\n",
    "- Company: {company}\n",
    "- Email: {email}\n",
    "- Subject: {subject}\n",
    "- Summary: {summary}\n",
    "- Date: {date}\n",
    "\n",
    "#Format(in markdown format):\n",
    "🙇‍♂️ 보낸 사람:\n",
    "- (보낸 사람의 이름, 회사 정보)\n",
    "\n",
    "📧 이메일 주소:\n",
    "- (보낸 사람의 이메일 주소)\n",
    "\n",
    "😍 보낸 사람과 관련하여 검색된 추가 정보:\n",
    "- (검색된 추가 정보)\n",
    "\n",
    "✅ 주요 내용:\n",
    "- (이메일 제목, 요약)\n",
    "\n",
    "⏰ 일정:\n",
    "- (미팅 날짜 및 시간)\n",
    "\n",
    "#Answer:\"\"\"\n",
    ")"
   ]
  },
  {
   "cell_type": "code",
   "execution_count": 22,
   "metadata": {},
   "outputs": [],
   "source": [
    "from langchain_core.output_parsers import StrOutputParser"
   ]
  },
  {
   "cell_type": "code",
   "execution_count": 23,
   "metadata": {},
   "outputs": [],
   "source": [
    "report_chain = (\n",
    "    report_prompt | ChatOpenAI(model=\"gpt-4-turbo\", temperature=0) | StrOutputParser()\n",
    ")"
   ]
  },
  {
   "cell_type": "code",
   "execution_count": 24,
   "metadata": {},
   "outputs": [],
   "source": [
    "report_response = report_chain.invoke(\n",
    "    {\n",
    "        \"sender\": answer.person,\n",
    "        \"additional_information\": search_result_string,\n",
    "        \"company\": answer.company,\n",
    "        \"email\": answer.email,\n",
    "        \"subject\": answer.subject,\n",
    "        \"summary\": answer.summary,\n",
    "        \"date\": answer.date,\n",
    "    }\n",
    ")"
   ]
  },
  {
   "cell_type": "code",
   "execution_count": 25,
   "metadata": {},
   "outputs": [
    {
     "name": "stdout",
     "output_type": "stream",
     "text": [
      "🙇‍♂️ 보낸 사람:\n",
      "- John Smith, Marketing Director at XYZ Solutions\n",
      "\n",
      "📧 이메일 주소:\n",
      "- john.smith@example.com\n",
      "\n",
      "😍 보낸 사람과 관련하여 검색된 추가 정보:\n",
      "- John Smith는 XYZ Solutions의 마케팅 디렉터로, 샌프란시스코와 램지에 위치한 경험을 가지고 있습니다. LinkedIn 프로필을 통해 10억 명의 전문가 커뮤니티에 속해 있습니다.\n",
      "\n",
      "✅ 주요 내용:\n",
      "- 제목: 협업 가능성 논의\n",
      "- 요약: John Smith는 Emily Johnson에게 두 회사 간의 협업 가능성을 논의하기 위해 연락을 취했습니다. 그는 다음 주에 전화 통화를 통해 더 자세히 논의하고 싶다고 제안했습니다.\n",
      "\n",
      "⏰ 일정:\n",
      "- 다음 주\n"
     ]
    }
   ],
   "source": [
    "print(report_response)"
   ]
  }
 ],
 "metadata": {
  "kernelspec": {
   "display_name": "langchain-kr--BePIR02-py3.11",
   "language": "python",
   "name": "python3"
  },
  "language_info": {
   "codemirror_mode": {
    "name": "ipython",
    "version": 3
   },
   "file_extension": ".py",
   "mimetype": "text/x-python",
   "name": "python",
   "nbconvert_exporter": "python",
   "pygments_lexer": "ipython3",
   "version": "3.11.11"
  }
 },
 "nbformat": 4,
 "nbformat_minor": 2
}
